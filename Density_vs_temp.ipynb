{
 "cells": [
  {
   "cell_type": "code",
   "execution_count": 3,
   "id": "b0b3ceaa",
   "metadata": {},
   "outputs": [],
   "source": [
    "import pandas as pd \n",
    "import matplotlib.pyplot as plt "
   ]
  },
  {
   "cell_type": "code",
   "execution_count": 4,
   "id": "9125c49b",
   "metadata": {},
   "outputs": [
    {
     "name": "stdout",
     "output_type": "stream",
     "text": [
      "<class 'pandas.core.frame.DataFrame'>\n",
      "RangeIndex: 5105020 entries, 0 to 5105019\n",
      "Data columns (total 9 columns):\n",
      " #   Column     Dtype  \n",
      "---  ------     -----  \n",
      " 0   OID_       int64  \n",
      " 1   SiteID     int64  \n",
      " 2   Site_name  object \n",
      " 3   Year       int64  \n",
      " 4   Month      int64  \n",
      " 5   Day        int64  \n",
      " 6   Time       float64\n",
      " 7   TempC      float64\n",
      " 8   TempF      float64\n",
      "dtypes: float64(3), int64(5), object(1)\n",
      "memory usage: 350.5+ MB\n"
     ]
    },
    {
     "data": {
      "text/plain": [
       "Index(['OID_', 'SiteID', 'Site_name', 'Year', 'Month', 'Day', 'Time', 'TempC',\n",
       "       'TempF'],\n",
       "      dtype='object')"
      ]
     },
     "execution_count": 4,
     "metadata": {},
     "output_type": "execute_result"
    }
   ],
   "source": [
    "density_pd=pd.read_csv(r\"C:\\Users\\gpkt2\\OneDrive\\Desktop\\Coral_DataSet\\Florida Keys Coral Reef Evaluation Dataset\\CREMP_CSV_files\\CREMP_OCTO_Summaries_2023_Density.csv\")\n",
    "temp_pd=pd.read_csv(r\"C:\\Users\\gpkt2\\OneDrive\\Desktop\\Coral_DataSet\\Florida Keys Coral Reef Evaluation Dataset\\CREMP_CSV_files\\CREMP_Temperatures_2023.csv\")\n",
    "temp_pd.head()\n",
    "temp_pd.info()\n",
    "temp_pd.columns"
   ]
  },
  {
   "cell_type": "code",
   "execution_count": 5,
   "id": "6458f10c",
   "metadata": {},
   "outputs": [
    {
     "name": "stdout",
     "output_type": "stream",
     "text": [
      "Correlation between Total Octocoral Density and Average Water Temperature (Celsius): 0.10\n",
      "Correlation between Total Octocoral Density and Year: 0.18\n",
      "Correlation between Average Water Temperature and Year: -0.02\n"
     ]
    }
   ],
   "source": [
    "# Calculate the average temperature (in Celsius) per SiteID for the year 2023\n",
    "avg_temp_per_site = temp_pd[temp_pd['Year'] == 2023].groupby('SiteID')['TempC'].mean().reset_index(name='Avg_TempC')\n",
    "\n",
    "# Merge the average temperature with the octocoral density data on SiteID\n",
    "merged_octo_temp = pd.merge(density_pd, avg_temp_per_site, on='SiteID', how='inner')\n",
    "\n",
    "# Calculate the correlation between Total_Octocorals and Avg_TempC\n",
    "correlation_octo_temp = merged_octo_temp['Total_Octocorals'].corr(merged_octo_temp['Avg_TempC'])\n",
    "print(f\"Correlation between Total Octocoral Density and Average Water Temperature (Celsius): {correlation_octo_temp:.2f}\")\n",
    "\n",
    "# If you also want to see the correlation with Year (though it's a single year in temp_df):\n",
    "correlation_octo_year = merged_octo_temp['Total_Octocorals'].corr(merged_octo_temp['Year'])\n",
    "print(f\"Correlation between Total Octocoral Density and Year: {correlation_octo_year:.2f}\")\n",
    "\n",
    "# You can also look at the correlation between Avg_TempC and Year (should be close to zero as we filtered for 2023)\n",
    "correlation_temp_year = merged_octo_temp['Avg_TempC'].corr(merged_octo_temp['Year'])\n",
    "print(f\"Correlation between Average Water Temperature and Year: {correlation_temp_year:.2f}\")"
   ]
  },
  {
   "cell_type": "code",
   "execution_count": null,
   "id": "0b1cc107",
   "metadata": {},
   "outputs": [],
   "source": []
  }
 ],
 "metadata": {
  "kernelspec": {
   "display_name": "base",
   "language": "python",
   "name": "python3"
  },
  "language_info": {
   "codemirror_mode": {
    "name": "ipython",
    "version": 3
   },
   "file_extension": ".py",
   "mimetype": "text/x-python",
   "name": "python",
   "nbconvert_exporter": "python",
   "pygments_lexer": "ipython3",
   "version": "3.12.7"
  }
 },
 "nbformat": 4,
 "nbformat_minor": 5
}
