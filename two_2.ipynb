{
 "cells": [
  {
   "cell_type": "code",
   "execution_count": 5,
   "id": "3bd4811a",
   "metadata": {},
   "outputs": [],
   "source": [
    "import numpy as np \n",
    "import pandas as pd \n",
    "import matplotlib as plt  \n"
   ]
  },
  {
   "cell_type": "markdown",
   "id": "a8a74689",
   "metadata": {},
   "source": [
    "2. Trends in Species Richness of Stony Corals 🔲\n",
    "Still needs to be done. You’ll want to:\n",
    "->Count the number of different coral species present per year or per station\n",
    "->Look at how that richness changes over time (line plot or bar plot)"
   ]
  },
  {
   "cell_type": "code",
   "execution_count": 6,
   "id": "afaf222c",
   "metadata": {},
   "outputs": [
    {
     "name": "stdout",
     "output_type": "stream",
     "text": [
      "<class 'pandas.core.frame.DataFrame'>\n",
      "RangeIndex: 109246 entries, 0 to 109245\n",
      "Data columns (total 10 columns):\n",
      " #   Column     Non-Null Count   Dtype  \n",
      "---  ------     --------------   -----  \n",
      " 0   Year       109246 non-null  int64  \n",
      " 1   Date       109246 non-null  object \n",
      " 2   Subregion  109246 non-null  object \n",
      " 3   Habitat    109246 non-null  object \n",
      " 4   SiteID     109246 non-null  int64  \n",
      " 5   Site_name  109246 non-null  object \n",
      " 6   StationID  109246 non-null  int64  \n",
      " 7   SPP_Code   109246 non-null  object \n",
      " 8   sciName    109246 non-null  object \n",
      " 9   Height_cm  109244 non-null  float64\n",
      "dtypes: float64(1), int64(3), object(6)\n",
      "memory usage: 8.3+ MB\n"
     ]
    },
    {
     "data": {
      "text/html": [
       "<div>\n",
       "<style scoped>\n",
       "    .dataframe tbody tr th:only-of-type {\n",
       "        vertical-align: middle;\n",
       "    }\n",
       "\n",
       "    .dataframe tbody tr th {\n",
       "        vertical-align: top;\n",
       "    }\n",
       "\n",
       "    .dataframe thead th {\n",
       "        text-align: right;\n",
       "    }\n",
       "</style>\n",
       "<table border=\"1\" class=\"dataframe\">\n",
       "  <thead>\n",
       "    <tr style=\"text-align: right;\">\n",
       "      <th></th>\n",
       "      <th>Year</th>\n",
       "      <th>SiteID</th>\n",
       "      <th>StationID</th>\n",
       "      <th>Height_cm</th>\n",
       "    </tr>\n",
       "  </thead>\n",
       "  <tbody>\n",
       "    <tr>\n",
       "      <th>count</th>\n",
       "      <td>109246.000000</td>\n",
       "      <td>109246.000000</td>\n",
       "      <td>109246.000000</td>\n",
       "      <td>109244.000000</td>\n",
       "    </tr>\n",
       "    <tr>\n",
       "      <th>mean</th>\n",
       "      <td>2017.591271</td>\n",
       "      <td>56.487762</td>\n",
       "      <td>567.443037</td>\n",
       "      <td>19.349914</td>\n",
       "    </tr>\n",
       "    <tr>\n",
       "      <th>std</th>\n",
       "      <td>3.639189</td>\n",
       "      <td>17.298813</td>\n",
       "      <td>172.985953</td>\n",
       "      <td>17.642004</td>\n",
       "    </tr>\n",
       "    <tr>\n",
       "      <th>min</th>\n",
       "      <td>2011.000000</td>\n",
       "      <td>26.000000</td>\n",
       "      <td>261.000000</td>\n",
       "      <td>1.000000</td>\n",
       "    </tr>\n",
       "    <tr>\n",
       "      <th>25%</th>\n",
       "      <td>2015.000000</td>\n",
       "      <td>35.000000</td>\n",
       "      <td>354.000000</td>\n",
       "      <td>6.000000</td>\n",
       "    </tr>\n",
       "    <tr>\n",
       "      <th>50%</th>\n",
       "      <td>2018.000000</td>\n",
       "      <td>55.000000</td>\n",
       "      <td>554.000000</td>\n",
       "      <td>14.000000</td>\n",
       "    </tr>\n",
       "    <tr>\n",
       "      <th>75%</th>\n",
       "      <td>2021.000000</td>\n",
       "      <td>74.000000</td>\n",
       "      <td>741.000000</td>\n",
       "      <td>28.000000</td>\n",
       "    </tr>\n",
       "    <tr>\n",
       "      <th>max</th>\n",
       "      <td>2023.000000</td>\n",
       "      <td>81.000000</td>\n",
       "      <td>814.000000</td>\n",
       "      <td>165.000000</td>\n",
       "    </tr>\n",
       "  </tbody>\n",
       "</table>\n",
       "</div>"
      ],
      "text/plain": [
       "                Year         SiteID      StationID      Height_cm\n",
       "count  109246.000000  109246.000000  109246.000000  109244.000000\n",
       "mean     2017.591271      56.487762     567.443037      19.349914\n",
       "std         3.639189      17.298813     172.985953      17.642004\n",
       "min      2011.000000      26.000000     261.000000       1.000000\n",
       "25%      2015.000000      35.000000     354.000000       6.000000\n",
       "50%      2018.000000      55.000000     554.000000      14.000000\n",
       "75%      2021.000000      74.000000     741.000000      28.000000\n",
       "max      2023.000000      81.000000     814.000000     165.000000"
      ]
     },
     "execution_count": 6,
     "metadata": {},
     "output_type": "execute_result"
    }
   ],
   "source": [
    "\n",
    "df = pd.read_csv(r\"C:\\Users\\ravit\\Desktop\\floridaprojdataset\\Dataset_csv\\CREMP_OCTO_RawData_2023.csv\")\n",
    "df.info()\n",
    "df.describe()"
   ]
  }
 ],
 "metadata": {
  "kernelspec": {
   "display_name": "base",
   "language": "python",
   "name": "python3"
  },
  "language_info": {
   "codemirror_mode": {
    "name": "ipython",
    "version": 3
   },
   "file_extension": ".py",
   "mimetype": "text/x-python",
   "name": "python",
   "nbconvert_exporter": "python",
   "pygments_lexer": "ipython3",
   "version": "3.12.7"
  }
 },
 "nbformat": 4,
 "nbformat_minor": 5
}
